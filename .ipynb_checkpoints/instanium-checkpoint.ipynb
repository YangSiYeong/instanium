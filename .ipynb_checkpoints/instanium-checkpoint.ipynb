{
 "cells": [
  {
   "cell_type": "markdown",
   "metadata": {},
   "source": [
    "### 인스타그램 사진 캡처하는 프로그램"
   ]
  },
  {
   "cell_type": "code",
   "execution_count": 17,
   "metadata": {
    "scrolled": true
   },
   "outputs": [
    {
     "name": "stdout",
     "output_type": "stream",
     "text": [
      "photoUrl Input : https://www.instagram.com/p/B1vfqCop4Wz/\n"
     ]
    },
    {
     "name": "stderr",
     "output_type": "stream",
     "text": [
      "C:\\Users\\USER\\Anaconda3\\lib\\site-packages\\ipykernel_launcher.py:10: DeprecationWarning: use options instead of chrome_options\n",
      "  # Remove the CWD from sys.path while we load stuff.\n"
     ]
    },
    {
     "name": "stdout",
     "output_type": "stream",
     "text": [
      "사진 이름 정하기hhhh\n",
      "파일이 다운로드 성공적으로 되었습니다\n"
     ]
    }
   ],
   "source": [
    "from selenium import webdriver\n",
    "from bs4 import BeautifulSoup\n",
    "from urllib.request import Request, urlopen\n",
    "import urllib.request\n",
    "from selenium.webdriver.common.keys import Keys\n",
    "import time\n",
    "options = webdriver.ChromeOptions()\n",
    "options.add_argument('headless')\n",
    "photoUrl = input(\"photoUrl Input : \")\n",
    "driver = webdriver.Chrome(\"C:/Users/USER/chromedriver\", chrome_options = options)\n",
    "driver.implicitly_wait(3)\n",
    "driver.get(photoUrl)\n",
    "\n",
    "imagesXpath = driver.find_elements_by_xpath(\"//*[@class='FFVAD']\")\n",
    "for x in imagesXpath:\n",
    "    img = x.get_attribute(\"srcset\")\n",
    "    #print(\"img, \", img)\n",
    "a = input(\"사진 이름 정하기 : \")\n",
    "html = img\n",
    "soup = BeautifulSoup(html, 'html.parser')\n",
    "urllib.request.urlretrieve(url, a+\".jpg\")\n",
    "print(\"파일이 다운로드 성공적으로 되었습니다\")\n",
    "driver.quit()"
   ]
  },
  {
   "cell_type": "code",
   "execution_count": 9,
   "metadata": {},
   "outputs": [
    {
     "name": "stdout",
     "output_type": "stream",
     "text": [
      "입력하세여 : https://scontent-icn1-1.cdninstagram.com/vp/440b4823a0cbd623d5044cf6aa28c2d3/5DF864D1/t51.2885-15/e35/s1080x1080/67580924_169677324169980_6363806085319680813_n.jpg?_nc_ht=scontent-icn1-1.cdninstagram.com\n"
     ]
    },
    {
     "name": "stderr",
     "output_type": "stream",
     "text": [
      "Some characters could not be decoded, and were replaced with REPLACEMENT CHARACTER.\n"
     ]
    },
    {
     "data": {
      "text/plain": [
       "('hello1.jpg', <http.client.HTTPMessage at 0x1e5f6c9ed68>)"
      ]
     },
     "execution_count": 9,
     "metadata": {},
     "output_type": "execute_result"
    }
   ],
   "source": [
    "from bs4 import BeautifulSoup\n",
    "from urllib.request import urlopen\n",
    "import urllib.request\n",
    "hello = input(\"입력하세여 : \")\n",
    "url = hello\n",
    "page = urlopen(url)\n",
    "soup = BeautifulSoup(page, \"html.parser\")\n",
    "urllib.request.urlretrieve(url, \"hello1.jpg\")"
   ]
  }
 ],
 "metadata": {
  "kernelspec": {
   "display_name": "Python 3",
   "language": "python",
   "name": "python3"
  },
  "language_info": {
   "codemirror_mode": {
    "name": "ipython",
    "version": 3
   },
   "file_extension": ".py",
   "mimetype": "text/x-python",
   "name": "python",
   "nbconvert_exporter": "python",
   "pygments_lexer": "ipython3",
   "version": "3.7.3"
  }
 },
 "nbformat": 4,
 "nbformat_minor": 2
}
